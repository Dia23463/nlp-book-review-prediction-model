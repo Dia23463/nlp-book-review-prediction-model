{
 "cells": [
  {
   "cell_type": "markdown",
   "metadata": {},
   "source": [
    "# Lab 8: Define and Solve an ML Problem of Your Choosing"
   ]
  },
  {
   "cell_type": "code",
   "execution_count": 1,
   "metadata": {},
   "outputs": [],
   "source": [
    "import pandas as pd\n",
    "import numpy as np\n",
    "import os \n",
    "import matplotlib.pyplot as plt\n",
    "import seaborn as sns"
   ]
  },
  {
   "cell_type": "markdown",
   "metadata": {},
   "source": [
    "In this lab assignment, you will follow the machine learning life cycle and implement a model to solve a machine learning problem of your choosing. You will select a data set and choose a predictive problem that the data set supports.  You will then inspect the data with your problem in mind and begin to formulate a  project plan. You will then implement the machine learning project plan. \n",
    "\n",
    "You will complete the following tasks:\n",
    "\n",
    "1. Build Your DataFrame\n",
    "2. Define Your ML Problem\n",
    "3. Perform exploratory data analysis to understand your data.\n",
    "4. Define Your Project Plan\n",
    "5. Implement Your Project Plan:\n",
    "    * Prepare your data for your model.\n",
    "    * Fit your model to the training data and evaluate your model.\n",
    "    * Improve your model's performance."
   ]
  },
  {
   "cell_type": "markdown",
   "metadata": {},
   "source": [
    "## Part 1: Build Your DataFrame\n",
    "\n",
    "You will have the option to choose one of four data sets that you have worked with in this program:\n",
    "\n",
    "* The \"census\" data set that contains Census information from 1994: `censusData.csv`\n",
    "* Airbnb NYC \"listings\" data set: `airbnbListingsData.csv`\n",
    "* World Happiness Report (WHR) data set: `WHR2018Chapter2OnlineData.csv`\n",
    "* Book Review data set: `bookReviewsData.csv`\n",
    "\n",
    "Note that these are variations of the data sets that you have worked with in this program. For example, some do not include some of the preprocessing necessary for specific models. \n",
    "\n",
    "#### Load a Data Set and Save it as a Pandas DataFrame\n",
    "\n",
    "The code cell below contains filenames (path + filename) for each of the four data sets available to you.\n",
    "\n",
    "<b>Task:</b> In the code cell below, use the same method you have been using to load the data using `pd.read_csv()` and save it to DataFrame `df`. \n",
    "\n",
    "You can load each file as a new DataFrame to inspect the data before choosing your data set."
   ]
  },
  {
   "cell_type": "code",
   "execution_count": 2,
   "metadata": {},
   "outputs": [
    {
     "data": {
      "text/html": [
       "<div>\n",
       "<style scoped>\n",
       "    .dataframe tbody tr th:only-of-type {\n",
       "        vertical-align: middle;\n",
       "    }\n",
       "\n",
       "    .dataframe tbody tr th {\n",
       "        vertical-align: top;\n",
       "    }\n",
       "\n",
       "    .dataframe thead th {\n",
       "        text-align: right;\n",
       "    }\n",
       "</style>\n",
       "<table border=\"1\" class=\"dataframe\">\n",
       "  <thead>\n",
       "    <tr style=\"text-align: right;\">\n",
       "      <th></th>\n",
       "      <th>Review</th>\n",
       "      <th>Positive Review</th>\n",
       "    </tr>\n",
       "  </thead>\n",
       "  <tbody>\n",
       "    <tr>\n",
       "      <th>0</th>\n",
       "      <td>This was perhaps the best of Johannes Steinhof...</td>\n",
       "      <td>True</td>\n",
       "    </tr>\n",
       "    <tr>\n",
       "      <th>1</th>\n",
       "      <td>This very fascinating book is a story written ...</td>\n",
       "      <td>True</td>\n",
       "    </tr>\n",
       "    <tr>\n",
       "      <th>2</th>\n",
       "      <td>The four tales in this collection are beautifu...</td>\n",
       "      <td>True</td>\n",
       "    </tr>\n",
       "    <tr>\n",
       "      <th>3</th>\n",
       "      <td>The book contained more profanity than I expec...</td>\n",
       "      <td>False</td>\n",
       "    </tr>\n",
       "    <tr>\n",
       "      <th>4</th>\n",
       "      <td>We have now entered a second time of deep conc...</td>\n",
       "      <td>True</td>\n",
       "    </tr>\n",
       "  </tbody>\n",
       "</table>\n",
       "</div>"
      ],
      "text/plain": [
       "                                              Review  Positive Review\n",
       "0  This was perhaps the best of Johannes Steinhof...             True\n",
       "1  This very fascinating book is a story written ...             True\n",
       "2  The four tales in this collection are beautifu...             True\n",
       "3  The book contained more profanity than I expec...            False\n",
       "4  We have now entered a second time of deep conc...             True"
      ]
     },
     "execution_count": 2,
     "metadata": {},
     "output_type": "execute_result"
    }
   ],
   "source": [
    "# File names of the four data sets\n",
    "adultDataSet_filename = os.path.join(os.getcwd(), \"data\", \"censusData.csv\")\n",
    "airbnbDataSet_filename = os.path.join(os.getcwd(), \"data\", \"airbnbListingsData.csv\")\n",
    "WHRDataSet_filename = os.path.join(os.getcwd(), \"data\", \"WHR2018Chapter2OnlineData.csv\")\n",
    "bookReviewDataSet_filename = os.path.join(os.getcwd(), \"data\", \"bookReviewsData.csv\")\n",
    "\n",
    "\n",
    "df = pd.read_csv(bookReviewDataSet_filename)\n",
    "\n",
    "df.head()"
   ]
  },
  {
   "cell_type": "markdown",
   "metadata": {},
   "source": [
    "## Part 2: Define Your ML Problem\n",
    "\n",
    "Next you will formulate your ML Problem. In the markdown cell below, answer the following questions:\n",
    "\n",
    "1. List the data set you have chosen.\n",
    "2. What will you be predicting? What is the label?\n",
    "3. Is this a supervised or unsupervised learning problem? Is this a clustering, classification or regression problem? Is it a binary classificaiton or multi-class classifiction problem?\n",
    "4. What are your features? (note: this list may change after your explore your data)\n",
    "5. Explain why this is an important problem. In other words, how would a company create value with a model that predicts this label?"
   ]
  },
  {
   "cell_type": "markdown",
   "metadata": {},
   "source": [
    "1) Dataset: Book Review Data<br>\n",
    "2) Label: 'Positive Review'.<br>\n",
    "3) It is supervised learning model as labels are given. It is a binary classification problem.<br>\n",
    "4) The feature is Review. There is only one feature. <br>\n",
    "5) Book reviews can really helps publishing companies understand which books and geners are more preferred by people. Whether they should promote the book or author can also be decided as if the book has negative reviews then they can stop production at an early stage rather than incur loss. It can also help them guide sales.<br>\n",
    "We will further analyze how the choice of vectorizer affects the accuracy and prediction results. Choosing the right vectorizer is really important as it affects generalization, determines the semantic meaning, can enable as well as limit advanced modelling etc. and all these can really impact business decisions.\n"
   ]
  },
  {
   "cell_type": "markdown",
   "metadata": {},
   "source": [
    "## Part 3: Understand Your Data\n",
    "\n",
    "The next step is to perform exploratory data analysis. Inspect and analyze your data set with your machine learning problem in mind. Consider the following as you inspect your data:\n",
    "\n",
    "1. What data preparation techniques would you like to use? These data preparation techniques may include:\n",
    "\n",
    "    * addressing missingness, such as replacing missing values with means\n",
    "    * finding and replacing outliers\n",
    "    * renaming features and labels\n",
    "    * finding and replacing outliers\n",
    "    * performing feature engineering techniques such as one-hot encoding on categorical features\n",
    "    * selecting appropriate features and removing irrelevant features\n",
    "    * performing specific data cleaning and preprocessing techniques for an NLP problem\n",
    "    * addressing class imbalance in your data sample to promote fair AI\n",
    "    \n",
    "\n",
    "2. What machine learning model (or models) you would like to use that is suitable for your predictive problem and data?\n",
    "    * Are there other data preparation techniques that you will need to apply to build a balanced modeling data set for your problem and model? For example, will you need to scale your data?\n",
    " \n",
    " \n",
    "3. How will you evaluate and improve the model's performance?\n",
    "    * Are there specific evaluation metrics and methods that are appropriate for your model?\n",
    "    \n",
    "\n",
    "Think of the different techniques you have used to inspect and analyze your data in this course. These include using Pandas to apply data filters, using the Pandas `describe()` method to get insight into key statistics for each column, using the Pandas `dtypes` property to inspect the data type of each column, and using Matplotlib and Seaborn to detect outliers and visualize relationships between features and labels. If you are working on a classification problem, use techniques you have learned to determine if there is class imbalance.\n",
    "\n",
    "<b>Task</b>: Use the techniques you have learned in this course to inspect and analyze your data. You can import additional packages that you have used in this course that you will need to perform this task.\n",
    "\n",
    "<b>Note</b>: You can add code cells if needed by going to the <b>Insert</b> menu and clicking on <b>Insert Cell Below</b> in the drop-drown menu."
   ]
  },
  {
   "cell_type": "markdown",
   "metadata": {},
   "source": [
    "The answer to the above questions as a way of thinking. For understanding data:(1) Performing specific data cleaning and preprocessing techniques for an NLP problem.(2) Addressing class imbalance in your data sample to promote fair AI. (2) Neural Networks for this NLP problem. (3) Use Accuracy score and confusion matrix as evaluation metrics and use parameter tuning."
   ]
  },
  {
   "cell_type": "markdown",
   "metadata": {},
   "source": [
    "## Part 4: Define Your Project Plan\n",
    "\n",
    "Now that you understand your data, in the markdown cell below, define your plan to implement the remaining phases of the machine learning life cycle (data preparation, modeling, evaluation) to solve your ML problem. Answer the following questions:\n",
    "\n",
    "* Do you have a new feature list? If so, what are the features that you chose to keep and remove after inspecting the data? \n",
    "* Explain different data preparation techniques that you will use to prepare your data for modeling.\n",
    "* What is your model (or models)?\n",
    "* Describe your plan to train your model, analyze its performance and then improve the model. That is, describe your model building, validation and selection plan to produce a model that generalizes well to new data. "
   ]
  },
  {
   "cell_type": "markdown",
   "metadata": {},
   "source": [
    "1) Yeah, as this is an NLP problem, we have only one feature \"Reviews\". We will vectorize this later. <br>\n",
    "2) We will follow the NLP pipeline which includes preprocessing steps like removing stop words, converting into lowercase, lemmatization and tokenization. This will be followed by vectorization in which we will vectorize the words and then train our neural network model.<br>\n",
    "3) As this is a sequential data we will use Neural Networks as our model to give a better result.<br>\n",
    "4) After analyzing and preprocessing the data we will train our model on the training data and analyze the results. If we have a very high accuracy then there are chances that the model has overfitted the data. We try to tune different parameters like changing the number of epochs and adding/ removing dropout layers to see how our results change. We can then train our model on testing data and analyze the results. If there is high accuracy with the training data but low accuracy on the test data, then we know the model has overfitted the data. In this case, we can further tune model parameters like the units and number of layers in the NN, change the learning rate and perform other tuning to see if our results are improving.<br>\n",
    "NOTE: As an addition to this project I will also be performing an analysis on which vectorization techniques from Count Vectorization, TF-IDF vectorization and Word embeddings (Word2vec) give better accuracy scores for our data."
   ]
  },
  {
   "cell_type": "markdown",
   "metadata": {},
   "source": [
    "## Part 5: Implement Your Project Plan\n",
    "\n",
    "<b>Task:</b> In the code cell below, import additional packages that you have used in this course that you will need to implement your project plan."
   ]
  },
  {
   "cell_type": "code",
   "execution_count": 3,
   "metadata": {},
   "outputs": [
    {
     "name": "stdout",
     "output_type": "stream",
     "text": [
      "Requirement already satisfied: nltk in /home/ubuntu/.pyenv/versions/3.9.19/lib/python3.9/site-packages (3.9.1)\n",
      "Requirement already satisfied: regex>=2021.8.3 in /home/ubuntu/.pyenv/versions/3.9.19/lib/python3.9/site-packages (from nltk) (2024.11.6)\n",
      "Requirement already satisfied: tqdm in /home/ubuntu/.pyenv/versions/3.9.19/lib/python3.9/site-packages (from nltk) (4.67.1)\n",
      "Requirement already satisfied: joblib in /home/ubuntu/.pyenv/versions/3.9.19/lib/python3.9/site-packages (from nltk) (1.4.0)\n",
      "Requirement already satisfied: click in /home/ubuntu/.pyenv/versions/3.9.19/lib/python3.9/site-packages (from nltk) (8.1.8)\n",
      "\n",
      "\u001b[1m[\u001b[0m\u001b[34;49mnotice\u001b[0m\u001b[1;39;49m]\u001b[0m\u001b[39;49m A new release of pip is available: \u001b[0m\u001b[31;49m23.0.1\u001b[0m\u001b[39;49m -> \u001b[0m\u001b[32;49m25.1.1\u001b[0m\n",
      "\u001b[1m[\u001b[0m\u001b[34;49mnotice\u001b[0m\u001b[1;39;49m]\u001b[0m\u001b[39;49m To update, run: \u001b[0m\u001b[32;49mpip install --upgrade pip\u001b[0m\n",
      "Requirement already satisfied: gensim in /home/ubuntu/.pyenv/versions/3.9.19/lib/python3.9/site-packages (4.3.3)\n",
      "Requirement already satisfied: numpy<2.0,>=1.18.5 in /home/ubuntu/.pyenv/versions/3.9.19/lib/python3.9/site-packages (from gensim) (1.19.5)\n",
      "Requirement already satisfied: scipy<1.14.0,>=1.7.0 in /home/ubuntu/.pyenv/versions/3.9.19/lib/python3.9/site-packages (from gensim) (1.10.1)\n",
      "Requirement already satisfied: smart-open>=1.8.1 in /home/ubuntu/.pyenv/versions/3.9.19/lib/python3.9/site-packages (from gensim) (7.3.0.post1)\n",
      "Requirement already satisfied: wrapt in /home/ubuntu/.pyenv/versions/3.9.19/lib/python3.9/site-packages (from smart-open>=1.8.1->gensim) (1.12.1)\n",
      "\n",
      "\u001b[1m[\u001b[0m\u001b[34;49mnotice\u001b[0m\u001b[1;39;49m]\u001b[0m\u001b[39;49m A new release of pip is available: \u001b[0m\u001b[31;49m23.0.1\u001b[0m\u001b[39;49m -> \u001b[0m\u001b[32;49m25.1.1\u001b[0m\n",
      "\u001b[1m[\u001b[0m\u001b[34;49mnotice\u001b[0m\u001b[1;39;49m]\u001b[0m\u001b[39;49m To update, run: \u001b[0m\u001b[32;49mpip install --upgrade pip\u001b[0m\n"
     ]
    }
   ],
   "source": [
    "# importing nltk library and needed modules.\n",
    "!pip install nltk\n",
    "!pip install gensim"
   ]
  },
  {
   "cell_type": "code",
   "execution_count": 4,
   "metadata": {},
   "outputs": [
    {
     "name": "stderr",
     "output_type": "stream",
     "text": [
      "2025-08-02 06:54:05.779629: W tensorflow/stream_executor/platform/default/dso_loader.cc:64] Could not load dynamic library 'libcudart.so.11.0'; dlerror: libcudart.so.11.0: cannot open shared object file: No such file or directory\n",
      "2025-08-02 06:54:05.779658: I tensorflow/stream_executor/cuda/cudart_stub.cc:29] Ignore above cudart dlerror if you do not have a GPU set up on your machine.\n"
     ]
    }
   ],
   "source": [
    "from sklearn.feature_extraction.text import TfidfVectorizer, CountVectorizer\n",
    "from sklearn.model_selection import train_test_split\n",
    "import tensorflow.keras as keras\n",
    "from sklearn.preprocessing import LabelEncoder\n",
    "from gensim.models import Word2Vec\n",
    "from sklearn.metrics import confusion_matrix, accuracy_score"
   ]
  },
  {
   "cell_type": "code",
   "execution_count": 5,
   "metadata": {},
   "outputs": [
    {
     "name": "stderr",
     "output_type": "stream",
     "text": [
      "[nltk_data] Downloading package punkt to /home/ubuntu/nltk_data...\n",
      "[nltk_data]   Package punkt is already up-to-date!\n",
      "[nltk_data] Downloading package punkt_tab to /home/ubuntu/nltk_data...\n",
      "[nltk_data]   Package punkt_tab is already up-to-date!\n",
      "[nltk_data] Downloading package stopwords to /home/ubuntu/nltk_data...\n",
      "[nltk_data]   Package stopwords is already up-to-date!\n",
      "[nltk_data] Downloading package wordnet to /home/ubuntu/nltk_data...\n",
      "[nltk_data]   Package wordnet is already up-to-date!\n",
      "[nltk_data] Downloading package omw-1.4 to /home/ubuntu/nltk_data...\n",
      "[nltk_data]   Package omw-1.4 is already up-to-date!\n"
     ]
    },
    {
     "data": {
      "text/plain": [
       "True"
      ]
     },
     "execution_count": 5,
     "metadata": {},
     "output_type": "execute_result"
    }
   ],
   "source": [
    "import string\n",
    "import nltk\n",
    "from nltk.corpus import stopwords #for removing stopwords\n",
    "from nltk.stem import WordNetLemmatizer # for lemmatization\n",
    "from nltk.tokenize import word_tokenize # for tokenization\n",
    "\n",
    "\n",
    "# Downloads (only once needed)\n",
    "nltk.download('punkt')\n",
    "nltk.download('punkt_tab')\n",
    "nltk.download('stopwords')\n",
    "nltk.download('wordnet')\n",
    "nltk.download('omw-1.4')"
   ]
  },
  {
   "cell_type": "markdown",
   "metadata": {},
   "source": [
    "<b>Task:</b> Use the rest of this notebook to carry out your project plan. \n",
    "\n",
    "You will:\n",
    "\n",
    "1. Prepare your data for your model.\n",
    "2. Fit your model to the training data and evaluate your model.\n",
    "3. Improve your model's performance by performing model selection and/or feature selection techniques to find best model for your problem.\n",
    "\n",
    "Add code cells below and populate the notebook with commentary, code, analyses, results, and figures as you see fit. "
   ]
  },
  {
   "cell_type": "markdown",
   "metadata": {},
   "source": [
    "PART 1: DATA UNDERSTANDING<br>\n",
    "We first inspect the data by seeing the shape, the feature values and the top 10 examples."
   ]
  },
  {
   "cell_type": "code",
   "execution_count": 6,
   "metadata": {},
   "outputs": [
    {
     "name": "stdout",
     "output_type": "stream",
     "text": [
      "(1973, 2)\n",
      "Index(['Review', 'Positive Review'], dtype='object')\n",
      "                                              Review  Positive Review\n",
      "0  This was perhaps the best of Johannes Steinhof...             True\n",
      "1  This very fascinating book is a story written ...             True\n",
      "2  The four tales in this collection are beautifu...             True\n",
      "3  The book contained more profanity than I expec...            False\n",
      "4  We have now entered a second time of deep conc...             True\n",
      "5  I don't know why it won the National Book Awar...            False\n",
      "6  The daughter of a prominent Boston doctor is d...            False\n",
      "7  I was very disapointed in the book.Basicly the...            False\n",
      "8  I think in retrospect I wasted my time on this...            False\n",
      "9  I have a hard time understanding what it is th...            False\n",
      "Review             0\n",
      "Positive Review    0\n",
      "dtype: int64\n"
     ]
    }
   ],
   "source": [
    "print(df.shape)\n",
    "print(df.columns)\n",
    "print(df.head(10))\n",
    "print(df.isna().sum()) # to check for nan values if any"
   ]
  },
  {
   "cell_type": "markdown",
   "metadata": {},
   "source": [
    "Checking the class imbalance:<br>\n",
    "Class imbalance is one way in which bias can enter AI models as if there will be a class with more examples our model can learn that relationship easily and classify those correctly as opposed to the other class which doesn't have more examples. We are making sure there is no class imbalance in the given data set. We will use count as a way to display the number of examples of each label and later we will implement a confusion matrix so that we can check if our model is giving biased predictions or not by looking for any skewed predictions."
   ]
  },
  {
   "cell_type": "code",
   "execution_count": 7,
   "metadata": {},
   "outputs": [
    {
     "name": "stdout",
     "output_type": "stream",
     "text": [
      "False    993\n",
      "True     980\n",
      "Name: Positive Review, dtype: int64\n"
     ]
    },
    {
     "data": {
      "image/png": "[encoded data removed]",
      "text/plain": [
       "<Figure size 640x480 with 1 Axes>"
      ]
     },
     "metadata": {},
     "output_type": "display_data"
    }
   ],
   "source": [
    "print(df['Positive Review'].value_counts())\n",
    "\n",
    "# Plotting\n",
    "df['Positive Review'].value_counts().plot(kind='bar')\n",
    "plt.title(\"Class Distribution\")\n",
    "plt.xlabel(\"Class\")\n",
    "plt.ylabel(\"Count\")\n",
    "plt.show()"
   ]
  },
  {
   "cell_type": "markdown",
   "metadata": {},
   "source": [
    "From our initial data exploration we can see that there are almost similar number of examples of both the class labels which will lead to an unbiased model training process."
   ]
  },
  {
   "cell_type": "markdown",
   "metadata": {},
   "source": [
    "PART 2: DEFINING LABELS<br>\n",
    "There is only one feature 'Review' and one label 'Positive Review'."
   ]
  },
  {
   "cell_type": "code",
   "execution_count": 8,
   "metadata": {},
   "outputs": [],
   "source": [
    "# our label\n",
    "y = df['Positive Review']\n",
    "# our feature\n",
    "X = df['Review']"
   ]
  },
  {
   "cell_type": "markdown",
   "metadata": {},
   "source": [
    "PART 3: DATA PREPROCESSING<br>\n",
    "In this part we perform data preprocessing by: (1) Removing stop words, which are those words which do not add much predictive value and are recurrent.(2) Lemmatization (3) Tokenization. We. will do this by using the Natural Language Toolkit (NLTK) library."
   ]
  },
  {
   "cell_type": "code",
   "execution_count": 9,
   "metadata": {},
   "outputs": [],
   "source": [
    "def data_preprocess(text):\n",
    "\n",
    "    # converting into lower case.\n",
    "    text = text.lower()\n",
    "\n",
    "    #tokenzing\n",
    "    tokens = word_tokenize(text)\n",
    "    tokens = [word for word in tokens if word not in string.punctuation]\n",
    "\n",
    "    # removing stop words\n",
    "    stop_words = set(stopwords.words('english'))\n",
    "    tokens = [word for word in tokens if word not in stop_words]\n",
    "\n",
    "    # lemmatizing\n",
    "    lemmatizer = WordNetLemmatizer()\n",
    "    tokens = [lemmatizer.lemmatize(word) for word in tokens]\n",
    "    \n",
    "    return \" \".join(tokens)\n"
   ]
  },
  {
   "cell_type": "code",
   "execution_count": 10,
   "metadata": {},
   "outputs": [],
   "source": [
    "# applying to X feature in the dataframe\n",
    "X = X.apply(data_preprocess)"
   ]
  },
  {
   "cell_type": "code",
   "execution_count": 11,
   "metadata": {},
   "outputs": [
    {
     "data": {
      "text/plain": [
       "0    perhaps best johannes steinhoff 's book since ...\n",
       "1    fascinating book story written form numerous l...\n",
       "2    four tale collection beautifully composed art ...\n",
       "3    book contained profanity expected read book ri...\n",
       "4    entered second time deep concern science math ...\n",
       "5    n't know national book award book slow amp bor...\n",
       "6    daughter prominent boston doctor dead apparent...\n",
       "7    disapointed book.basicly writer took bit piece...\n",
       "8    think retrospect wasted time one great premise...\n",
       "9    hard time understanding dislike novel dislike ...\n",
       "Name: Review, dtype: object"
      ]
     },
     "execution_count": 11,
     "metadata": {},
     "output_type": "execute_result"
    }
   ],
   "source": [
    "# analyzing the results of preprocessing\n",
    "X.head(10)"
   ]
  },
  {
   "cell_type": "markdown",
   "metadata": {},
   "source": [
    "PART 4: CREATE TRAINING AND TEST DATA<br>\n",
    "We will create a test set that is 25 precent of the data set size."
   ]
  },
  {
   "cell_type": "code",
   "execution_count": 12,
   "metadata": {},
   "outputs": [],
   "source": [
    "X_train, X_test, y_train, y_test = train_test_split(X,y, test_size = 0.25, random_state = 123)"
   ]
  },
  {
   "cell_type": "markdown",
   "metadata": {},
   "source": [
    "PART 5: CONSTRUCTING OUR NEURAL NETWORK AND TRAINING OUR MODEL<br>\n",
    "We will follow 4 main steps in creating our model:<br>\n",
    "(1) Defining model structure with input, hidden and output layers using the Keras library for this.<br> \n",
    "(2) Defining the optimization function through which we will create a Stochastic Gradient Descent (SGD) optimizer with a learning rate that can help us get closer to optimum value. <br> \n",
    "(3) Defining binary cross entropy loss function with an output as a normalized probability between 0 and 1.<br> (4) Compiling the model."
   ]
  },
  {
   "cell_type": "code",
   "execution_count": 13,
   "metadata": {},
   "outputs": [],
   "source": [
    "# STEP 1:\n",
    "def create_nn_model(input_dim):\n",
    "    # 1. Defining model structure\n",
    "    nn_model = keras.Sequential()\n",
    "    \n",
    "    nn_model.add(keras.layers.InputLayer(input_shape = input_dim))\n",
    "    \n",
    "    nn_model.add(keras.layers.Dense(units = 128, activation = 'relu'))\n",
    "    # nn_model.add(keras.layers.Dropout(0.15))\n",
    "    \n",
    "    nn_model.add(keras.layers.Dense(units=64, activation = 'relu'))\n",
    "    nn_model.add(keras.layers.Dropout(0.15))\n",
    "\n",
    "    nn_model.add(keras.layers.Dense(units=32, activation = 'relu'))\n",
    "    nn_model.add(keras.layers.Dropout(0.15))\n",
    "    \n",
    "    nn_model.add(keras.layers.Dense(units=16, activation = 'relu'))\n",
    "    # nn_model.add(keras.layers.Dropout(0.15))\n",
    "    \n",
    "    nn_model.add(keras.layers.Dense(units=1, activation = \"sigmoid\"))\n",
    "    \n",
    "    # Printing summary of neural network model structure\n",
    "    # nn_model.summary()\n",
    "    \n",
    "    # 2. Defining optimization function\n",
    "    sgd_optimizer = keras.optimizers.SGD(learning_rate = 0.1)\n",
    "\n",
    "    # 3. Defining loss function\n",
    "    loss_fn = keras.losses.BinaryCrossentropy(from_logits = False)\n",
    "\n",
    "    # 4. Compiling the model\n",
    "    nn_model.compile(optimizer = sgd_optimizer, loss = loss_fn, metrics = ['accuracy'] )\n",
    "\n",
    "    return nn_model"
   ]
  },
  {
   "cell_type": "markdown",
   "metadata": {},
   "source": [
    "PART 6: IMPLEMENTING DIFFERNET VECTORIZING TECHNIQUES<br>\n",
    "Even though the main vectorizer we will be using is TF-IDF and we will show visualization between training and test data for this vectorization technique, as we are performing analysis between three vectorization types namely Count, TF-IDF and Word Embeddings we will perform all three vectorization techniques and work on them. Even though vectorizing comes in the data preprocessing segment, I have put it in this order."
   ]
  },
  {
   "cell_type": "code",
   "execution_count": 14,
   "metadata": {},
   "outputs": [],
   "source": [
    "# Logging Callback\n",
    "class ProgBarLoggerNEpochs(keras.callbacks.Callback):\n",
    "    def __init__(self, num_epochs, every_n=5):\n",
    "        self.num_epochs = num_epochs\n",
    "        self.every_n = every_n\n",
    "\n",
    "    def on_epoch_end(self, epoch, logs=None):\n",
    "        if (epoch + 1) % self.every_n == 0:\n",
    "            print(f\"Epoch [{epoch+1}/{self.num_epochs}] - \" +\n",
    "                  \", \".join([f\"{k}: {v:.4f}\" for k, v in logs.items()]))\n"
   ]
  },
  {
   "cell_type": "code",
   "execution_count": 15,
   "metadata": {},
   "outputs": [],
   "source": [
    "# Label encoding\n",
    "le = LabelEncoder()\n",
    "y_train_enc = le.fit_transform(y_train)\n",
    "y_test_enc = le.transform(y_test)\n",
    "num_epochs  = 25"
   ]
  },
  {
   "cell_type": "code",
   "execution_count": 16,
   "metadata": {},
   "outputs": [
    {
     "name": "stderr",
     "output_type": "stream",
     "text": [
      "2025-08-02 06:54:34.634809: W tensorflow/stream_executor/platform/default/dso_loader.cc:64] Could not load dynamic library 'libcuda.so.1'; dlerror: libcuda.so.1: cannot open shared object file: No such file or directory\n",
      "2025-08-02 06:54:34.634835: W tensorflow/stream_executor/cuda/cuda_driver.cc:326] failed call to cuInit: UNKNOWN ERROR (303)\n",
      "2025-08-02 06:54:34.634851: I tensorflow/stream_executor/cuda/cuda_diagnostics.cc:156] kernel driver does not appear to be running on this host (i-03fc565d42754714c): /proc/driver/nvidia/version does not exist\n",
      "2025-08-02 06:54:34.635033: I tensorflow/core/platform/cpu_feature_guard.cc:142] This TensorFlow binary is optimized with oneAPI Deep Neural Network Library (oneDNN) to use the following CPU instructions in performance-critical operations:  AVX2 FMA\n",
      "To enable them in other operations, rebuild TensorFlow with the appropriate compiler flags.\n",
      "2025-08-02 06:54:35.082698: I tensorflow/compiler/mlir/mlir_graph_optimization_pass.cc:176] None of the MLIR Optimization Passes are enabled (registered 2)\n",
      "2025-08-02 06:54:35.083089: I tensorflow/core/platform/profile_utils/cpu_utils.cc:114] CPU Frequency: 2649990000 Hz\n"
     ]
    },
    {
     "name": "stdout",
     "output_type": "stream",
     "text": [
      "Epoch [5/25] - loss: 0.3080, accuracy: 0.8884, val_loss: 0.4925, val_accuracy: 0.7872\n",
      "Epoch [10/25] - loss: 0.0204, accuracy: 0.9975, val_loss: 0.8331, val_accuracy: 0.7872\n",
      "Epoch [15/25] - loss: 0.0027, accuracy: 1.0000, val_loss: 1.2215, val_accuracy: 0.7872\n",
      "Epoch [20/25] - loss: 0.0023, accuracy: 1.0000, val_loss: 1.3853, val_accuracy: 0.7770\n",
      "Epoch [25/25] - loss: 0.0009, accuracy: 1.0000, val_loss: 1.4545, val_accuracy: 0.7872\n",
      "\n",
      "Count Vectorizer → Loss: 1.6512, Accuracy: 0.7510\n"
     ]
    }
   ],
   "source": [
    "# Count Vectorization\n",
    "count_vec = CountVectorizer()\n",
    "X_train_count = count_vec.fit_transform(X_train).toarray()\n",
    "X_test_count = count_vec.transform(X_test).toarray()\n",
    "\n",
    "model_count = create_nn_model(X_train_count.shape[1])\n",
    "history_count = model_count.fit(\n",
    "    X_train_count, np.array(y_train),\n",
    "    validation_split=0.2,\n",
    "    epochs=num_epochs,\n",
    "    batch_size=32,\n",
    "    verbose=0,\n",
    "    callbacks=[ProgBarLoggerNEpochs(num_epochs)]\n",
    ")\n",
    "\n",
    "# Evaluation\n",
    "loss, acc = model_count.evaluate(X_test_count, np.array(y_test), verbose=0)\n",
    "print(\"\\nCount Vectorizer → Loss: {:.4f}, Accuracy: {:.4f}\".format(loss, acc))"
   ]
  },
  {
   "cell_type": "code",
   "execution_count": 17,
   "metadata": {},
   "outputs": [
    {
     "name": "stdout",
     "output_type": "stream",
     "text": [
      "Epoch [5/25] - loss: 0.6938, accuracy: 0.4945, val_loss: 0.6933, val_accuracy: 0.4966\n",
      "Epoch [10/25] - loss: 0.6932, accuracy: 0.5123, val_loss: 0.6933, val_accuracy: 0.5270\n",
      "Epoch [15/25] - loss: 0.6931, accuracy: 0.5055, val_loss: 0.6934, val_accuracy: 0.4730\n",
      "Epoch [20/25] - loss: 0.6937, accuracy: 0.5046, val_loss: 0.6937, val_accuracy: 0.5068\n",
      "Epoch [25/25] - loss: 0.6919, accuracy: 0.5165, val_loss: 0.6941, val_accuracy: 0.5135\n",
      "\n",
      "Word2Vec → Loss: 0.6917, Accuracy: 0.5000\n"
     ]
    }
   ],
   "source": [
    "# Word Embeddings (Word2Vec)\n",
    "\n",
    "# Tokenize train and test documents\n",
    "tokenized_train = [word_tokenize(doc.lower()) for doc in X_train]\n",
    "tokenized_test = [word_tokenize(doc.lower()) for doc in X_test]\n",
    "\n",
    "# Train Word2Vec on training data only\n",
    "w2v_model = Word2Vec(sentences=tokenized_train, vector_size=100, window=5, min_count=1, workers=4)\n",
    "\n",
    "# Function to get document vector by averaging word vectors\n",
    "def document_vector(tokens):\n",
    "    vecs = [w2v_model.wv[word] for word in tokens if word in w2v_model.wv]\n",
    "    return np.mean(vecs, axis=0) if vecs else np.zeros(w2v_model.vector_size)\n",
    "\n",
    "# Vectorize train and test datasets\n",
    "X_train_w2v = np.array([document_vector(doc) for doc in tokenized_train])\n",
    "X_test_w2v = np.array([document_vector(doc) for doc in tokenized_test])\n",
    "\n",
    "# Create and compile your model\n",
    "model_w2v = create_nn_model(X_train_w2v.shape[1])\n",
    "\n",
    "# Train the model\n",
    "history_w2v = model_w2v.fit(\n",
    "    X_train_w2v, np.array(y_train),\n",
    "    validation_split=0.2,\n",
    "    epochs=num_epochs,\n",
    "    batch_size=32,\n",
    "    verbose=0,\n",
    "    callbacks=[ProgBarLoggerNEpochs(num_epochs)]\n",
    ")\n",
    "\n",
    "# Evaluation\n",
    "loss, acc = model_w2v.evaluate(X_test_w2v, np.array(y_test), verbose=0)\n",
    "print(\"\\nWord2Vec → Loss: {:.4f}, Accuracy: {:.4f}\".format(loss, acc))\n"
   ]
  },
  {
   "cell_type": "code",
   "execution_count": 18,
   "metadata": {},
   "outputs": [
    {
     "name": "stdout",
     "output_type": "stream",
     "text": [
      "Epoch [5/25] - loss: 0.6924, accuracy: 0.5097, val_loss: 0.6925, val_accuracy: 0.5439\n",
      "Epoch [10/25] - loss: 0.6838, accuracy: 0.5976, val_loss: 0.6887, val_accuracy: 0.5034\n",
      "Epoch [15/25] - loss: 0.6210, accuracy: 0.6458, val_loss: 0.7710, val_accuracy: 0.5034\n",
      "Epoch [20/25] - loss: 0.5212, accuracy: 0.7439, val_loss: 0.8494, val_accuracy: 0.5270\n",
      "Epoch [25/25] - loss: 0.3822, accuracy: 0.8419, val_loss: 0.4592, val_accuracy: 0.7905\n",
      "\n",
      "TF-IDF → Loss: 0.4890, Accuracy: 0.7551\n"
     ]
    }
   ],
   "source": [
    "# TF-IDF Vectorization\n",
    "tfidf_vec = TfidfVectorizer()\n",
    "X_train_tfidf = tfidf_vec.fit_transform(X_train).toarray()\n",
    "X_test_tfidf = tfidf_vec.transform(X_test).toarray()\n",
    "\n",
    "model_tfidf = create_nn_model(X_train_tfidf.shape[1])\n",
    "num_epochs = 25\n",
    "history_tfidf = model_tfidf.fit(\n",
    "    X_train_tfidf, np.array(y_train),\n",
    "    validation_split=0.2,\n",
    "    epochs=num_epochs,\n",
    "    batch_size=32,\n",
    "    verbose=0,\n",
    "    callbacks=[ProgBarLoggerNEpochs(num_epochs)]\n",
    ")\n",
    "\n",
    "# Evaluation\n",
    "loss, acc = model_tfidf.evaluate(X_test_tfidf, np.array(y_test), verbose=0)\n",
    "print(\"\\nTF-IDF → Loss: {:.4f}, Accuracy: {:.4f}\".format(loss, acc))\n"
   ]
  },
  {
   "cell_type": "markdown",
   "metadata": {},
   "source": [
    "PART 7: VISUALIZNIG TF-IDF VECTORIZATION PERFORMANCE"
   ]
  },
  {
   "cell_type": "code",
   "execution_count": 19,
   "metadata": {
    "scrolled": true
   },
   "outputs": [
    {
     "data": {
      "image/png": "[encoded data removed]",
      "text/plain": [
       "<Figure size 640x480 with 1 Axes>"
      ]
     },
     "metadata": {},
     "output_type": "display_data"
    },
    {
     "data": {
      "image/png": "[encoded data removed]",
      "text/plain": [
       "<Figure size 640x480 with 1 Axes>"
      ]
     },
     "metadata": {},
     "output_type": "display_data"
    }
   ],
   "source": [
    "# Plot training and validation loss and accuracy\n",
    "\n",
    "# Plot Loss\n",
    "plt.plot(range(1, num_epochs + 1), history_tfidf.history['loss'], label='Training Loss')\n",
    "plt.plot(range(1, num_epochs + 1), history_tfidf.history['val_loss'], label='Validation Loss')\n",
    "plt.xlabel('Epoch')\n",
    "plt.ylabel('Loss')\n",
    "plt.title('TF-IDF: Training & Validation Loss')\n",
    "plt.legend()\n",
    "plt.show()\n",
    "\n",
    "# Plot Accuracy\n",
    "plt.plot(range(1, num_epochs + 1), history_tfidf.history['accuracy'], label='Training Accuracy')\n",
    "plt.plot(range(1, num_epochs + 1), history_tfidf.history['val_accuracy'], label='Validation Accuracy')\n",
    "plt.xlabel('Epoch')\n",
    "plt.ylabel('Accuracy')\n",
    "plt.title('TF-IDF: Training & Validation Accuracy')\n",
    "plt.legend()\n",
    "plt.show()"
   ]
  },
  {
   "cell_type": "markdown",
   "metadata": {},
   "source": [
    "PART 8: EVALUATING THE MODEL'S PERFORMANCE:<br>\n",
    "There are 5 parts to this: (1) We will try to improve accuracy on training set while making sure it doesn't overfit. (2) We will analyze all this and note it down. (3) We will evaluate performance on test set by a confusion matrix. (4) We will make predictions on the test set. (5) We will check randomly selected examples further evaluate performance."
   ]
  },
  {
   "cell_type": "code",
   "execution_count": 20,
   "metadata": {},
   "outputs": [
    {
     "name": "stdout",
     "output_type": "stream",
     "text": [
      "16/16 [==============================] - 0s 2ms/step - loss: 0.4890 - accuracy: 0.7551\n",
      "Loss:  0.489032506942749 Accuracy:  0.7550607323646545\n"
     ]
    }
   ],
   "source": [
    "# Evaluating performance on test set\n",
    "loss, accuracy = model_tfidf.evaluate(X_test_tfidf, y_test)\n",
    "\n",
    "print('Loss: ', str(loss) , 'Accuracy: ', str(accuracy))"
   ]
  },
  {
   "cell_type": "code",
   "execution_count": 21,
   "metadata": {},
   "outputs": [
    {
     "data": {
      "text/plain": [
       "array([[215,  29],\n",
       "       [ 92, 158]])"
      ]
     },
     "execution_count": 21,
     "metadata": {},
     "output_type": "execute_result"
    }
   ],
   "source": [
    "# Presenting the confusion matrix to analyse results.\n",
    "confusion_matrix(y_test, (model_tfidf.predict(X_test_tfidf) > 0.5).astype(int))"
   ]
  },
  {
   "cell_type": "code",
   "execution_count": 22,
   "metadata": {},
   "outputs": [
    {
     "name": "stdout",
     "output_type": "stream",
     "text": [
      "Predictions for some examples:\n",
      "[0.5981618] True\n",
      "[0.91787255] True\n",
      "[0.55433476] False\n",
      "[0.8935567] True\n",
      "[0.90841717] True\n",
      "[0.90555] True\n",
      "[0.77949965] True\n",
      "[0.8432131] True\n",
      "[0.5967305] True\n"
     ]
    }
   ],
   "source": [
    "# Make predictions on the test set\n",
    "probability_predictions = model_tfidf.predict(X_test_tfidf)\n",
    "\n",
    "print(\"Predictions for some examples:\")\n",
    "for i in range(len(probability_predictions[:20])):\n",
    "    if probability_predictions[i] > 0.5:\n",
    "        print(probability_predictions[i], y_test.to_numpy()[i])"
   ]
  },
  {
   "cell_type": "code",
   "execution_count": 23,
   "metadata": {},
   "outputs": [
    {
     "name": "stdout",
     "output_type": "stream",
     "text": [
      "Review #1:\n",
      "\n",
      "wrong ok 've admitted always thought science fiction futuristic type novel n't cup tea reading conspiracy death realized could n't wrong love futuristic series homeless man murdered case assigned eve dallas since 's random act violence man snook died heart surgically removed appeared skilled surgeon dallas dig bit discovers crime connected another committed new york city aged lc licensed companion died result liver removed even digging dallas discovers case chicago one abroad similar result black market organ sale since victim within month dying order eve dallas find murderer figure victim chosen closer got answer nervous influential politician doctor became got close truth villain put stop investigation best way get dallas case suspended police department simple procedure since conflict patrol officer discovered snook 's body dallas patrolwoman brutally murdered suspicion fell dallas stripped badge weapon item heart sole adult life deal idea police detective also trying solve crime hand tied main plot interesting villain predictable surprise excellent character development usual j.d robb aka nora robert draw reader suspense point able put book make book average falling excellent range fantastic subplot eve dallas stripped identity policewoman must deal various facet time intense exciting main plot definitely one read `` death '' series book start first book reading j.d robb always couple instance reflects previous happening start first book 's beginning excellent adventure\n",
      "\n",
      "Prediction: Is this a good review? True\n",
      "\n",
      "Actual: Is this a good review? True\n",
      "\n"
     ]
    }
   ],
   "source": [
    "print('Review #1:\\n')\n",
    "\n",
    "print(X_test.to_numpy()[11])\n",
    "\n",
    "goodReview = True if probability_predictions[11] >= .5 else False\n",
    "    \n",
    "print('\\nPrediction: Is this a good review? {}\\n'.format(goodReview))\n",
    "\n",
    "print('Actual: Is this a good review? {}\\n'.format(y_test.to_numpy()[11]))"
   ]
  },
  {
   "cell_type": "code",
   "execution_count": 24,
   "metadata": {},
   "outputs": [
    {
     "name": "stdout",
     "output_type": "stream",
     "text": [
      "Review #2:\n",
      "\n",
      "good book deal structure want valuation number check quot unlocking value business quot\n",
      "\n",
      "Prediction: Is this a good review? True\n",
      "\n",
      "Actual: Is this a good review? False\n",
      "\n"
     ]
    }
   ],
   "source": [
    "print('Review #2:\\n')\n",
    "\n",
    "print(X_test.to_numpy()[24])\n",
    "\n",
    "goodReview = True if probability_predictions[24] >= .5 else False\n",
    "\n",
    "print('\\nPrediction: Is this a good review? {}\\n'.format(goodReview)) \n",
    "\n",
    "print('Actual: Is this a good review? {}\\n'.format(y_test.to_numpy()[24]))"
   ]
  },
  {
   "cell_type": "code",
   "execution_count": 25,
   "metadata": {},
   "outputs": [
    {
     "name": "stdout",
     "output_type": "stream",
     "text": [
      "Review #3:\n",
      "\n",
      "'m trying figure appropriate subtitle book ca n't decide among following travel guilt world 's 33rd richest hippie mind empty suit self-important revisionist history learned hate love third world memoir cold war paperpusher confession economic hitman john perkins exclamation point riddled history financial manipulation cold war man stake ambition first thing notice account written man think sitting top world fact cog energy industry credulous enough believe debt revenue associated energy business indeed core principle global economy moral outrage book make sense 's whole lot swallow plus side 's fast somewhat entertaining read otherwise exercise slow revelation kind self-loathing take 20 year surface one thing 've mind reading screed sense geography destiny look 20th century think focused economics perkins one people made truth narrative economic exploitation fall love socialist charismatics latin america rue life poor peasant bemoans basic nature corporate capitalism without ever acknowledging even understanding basic nature socialism perkins perfect example cultural relativist perceptive reader see much hate hometown parent idolizes romantic ideal associated revolutionary rhetoric ca n't imagine even temerity read marx weber engles friere anyone back bit blackified referred people culture vulture 's indigenous 's good 'll never see talk infant mortality statistic literacy rate crime rate even inflation discovered bit late book would teach nothing business foreign direct investment working world bank except saw evil technically 'll get great deal insight reading wikipedia basically perkins assumes game game planet company smack dab middle subtley directed cia nsa always american way really get foggy view evil empire america perkins resembles nobody quite much cynical wanker soulless quit game 's confession right time got 2/3rds way reading book began become annoying incredible vacuity man staggering personal relationship book worth speaking found loyalty boss worth mentioning stunning revelation character never kind word say personal quality worth mentioning staff stand memory learn took one charge female yacht cruise isle caribbean got sickened guilty conscience banged head coconut tree want understand something life economist high finance best book 've read life quant want understand something life reluctant spy best book read larry kolb 's overworld want get well-written account man spoiled find toady economic hardball cold war era book 's nowhere near good say quiet american imagine perkins great admirer graham greene might aspiration character greene might pen earnest tell story would portray thus honest consider heroic suspect 'll working guilt rest life regard 'confessions economic hitman prefaced extended paperback edition blueprint american liberal guilt ever someone truly believed global warming host blowback destined doom america well-deserved kharmic smackdown john perkins always citizen world pretending patriotic american repetition undying faith word thomas paine 'd think pseudo-economist 'd room heart alexander hamilton ahh would mean 'd admire courage n't want harsh judge perkins thought might learn extraordinary life one conviction epiphany instead learned small yapping dog always leash lacked spirit gnaw someone would tell u end use less oil 'corporatocray evil book disappointment many way may well happy read thomas friedman good part yeah speaks south american president might contender give detail saudi aramco compared larry kolb 's fascinating detailed portrait daniel ortega adnan khashoggi romper room perkins thought agent ... n't make laugh\n",
      "\n",
      "Prediction: Is this a good review? True\n",
      "\n",
      "Actual: Is this a good review? False\n",
      "\n"
     ]
    }
   ],
   "source": [
    "print('Review #3:\\n')\n",
    "\n",
    "print(X_test.to_numpy()[56])\n",
    "\n",
    "goodReview = True if probability_predictions[56] >= .5 else False\n",
    "    \n",
    "print('\\nPrediction: Is this a good review? {}\\n'.format(goodReview))\n",
    "\n",
    "print('Actual: Is this a good review? {}\\n'.format(y_test.to_numpy()[56]))"
   ]
  },
  {
   "cell_type": "code",
   "execution_count": 26,
   "metadata": {},
   "outputs": [
    {
     "name": "stdout",
     "output_type": "stream",
     "text": [
      "Review #4:\n",
      "\n",
      "'m zone diet believer book serious letdown two major problem worthless book 1. almost recipe involve far much preparation title misleading 2. find hard believe anyone actually prepared recipe thought good meal horrible due huge proportion vegetable mean omelet 3 cup asparagus\n",
      "\n",
      "Prediction: Is this a good review? False\n",
      "\n",
      "Actual: Is this a good review? False\n",
      "\n"
     ]
    }
   ],
   "source": [
    "print('Review #4:\\n')\n",
    "print(X_test.to_numpy()[102])\n",
    "\n",
    "goodReview = True if probability_predictions[102] >= .5 else False\n",
    "    \n",
    "print('\\nPrediction: Is this a good review? {}\\n'.format(goodReview))\n",
    "\n",
    "print('Actual: Is this a good review? {}\\n'.format(y_test.to_numpy()[102]))"
   ]
  },
  {
   "cell_type": "markdown",
   "metadata": {},
   "source": [
    "PART 9: ANALYSIS<br>\n",
    "Overfitting is the situation in which a model adapts too well with the training data and learns the patterns and relationships so well that it cannot generalize well with new test data. On the other hand, underfitting is the situation in which the model gives bad results for training and test data as it doesn't learn the relationships in the data well during training. We will try getting the best accuracy on our training data without overfitting or underfitting the data. For this we will (1) Change the number of Epochs (2) Add dropout regularization. Dropout regularization is a technique that randomly drops a number of nodes in a neural network during training as a way of adding randomization and preventing nodes from becoming dependent on one another. Adding dropout regularization can reduce overfitting and also improve the performance of the model. (3) Changing the learning rate.<br>\n",
    "<br>\n",
    "The Result:<br>\n",
    "(1) Changing number of epochs: Initially when the number of epochs was 30, our model was overfitting the training data. Now when we reduce it to 25 our accuracy on training data. When we further decrease it to 20, the accuracy becomes 0.7616 on the training data. So for now, our optimum value for number of epochs is 25.<br>\n",
    "(2) Adding a hidden layer with 128 units- this makes the accuracy in training data to be 0.9289. When we change the units to 64,32,16,8 it becomes 0.7743. (2) Adding dropout regularization: When we have dropout layers after every hidden layer, the accuracy becomes 0.7532 and loss becomes 0.5012. When we only have dropout layers after the first and last hidden layers, we get an accuracy of 0.8731 and loss of 0.3387. When we have the dropout layers after the middle two hidden layers, we get an accuracy of 0.8347 and loss of 0.2427 in the training data (and for test data we have accuracy of 0.7976 and loss of 0.4795). When we have dropout layers after last three hidden layers we see a decrease in accuracy in the training data to 0.8140 and increase in loss to 0.4522.<br>\n",
    "(3) Changing the learning rate to 0.05 decreases the accuracy to 0.67 in training data and an increase in the learning rate to 0.5 also lead to a decrease in accuracy.<br>\n",
    "<br>\n",
    "Analyzing in terms of bias:<br>\n",
    "When we talk about bias, it can enter a ML development lifecycle in many ways like having an unbalanced data set or during training the model. In this project, I went about checking for bias in two ways: (1) Counting the examples of each class and seeing if there are similar number of examples for each (2) Getting the confusion matrix after training our model to check for any skewed predictions.<br>\n",
    "<br>\n",
    "Analyzing the usage of differnet vectorizers:\n",
    "1) Count vectorizer- this gives the highest accuracy around 0.798 as is expected in count vectorizer as it basically counts the number of occurences of a particular word in all documents/ examples.<br>\n",
    "2) Word Embeddings- this gives the lowest accuracy around 0.493 as is expected as this vectorizer basically gets the schematic meaning of words and a low accuracy for this dataset gives the idea that there is not much schematic meaning between words.<br>\n",
    "3) TF-IDF- this gives an accuracy around 0.7712 which comes between the accuracies of the two other vectorizers and it corresponds closely to count vectorizer which is the count of a word in an example over the count of that word in all other examples which tells us the influence of that word on the predictions.<br>"
   ]
  },
  {
   "cell_type": "markdown",
   "metadata": {},
   "source": [
    "Some observations:<br>\n",
    "(1) Using K-fold validation proved tricky when working with different vectorization techniques. As the function needed to be defined multiple times for different methods and graphing just for TF-IDF method was very complex.<br>\n",
    "(2) Confusion matrices are good evaluation tools and can give a very good idea about our model predictions."
   ]
  }
 ],
 "metadata": {
  "kernelspec": {
   "display_name": "Python 3 (ipykernel)",
   "language": "python",
   "name": "python3"
  },
  "language_info": {
   "codemirror_mode": {
    "name": "ipython",
    "version": 3
   },
   "file_extension": ".py",
   "mimetype": "text/x-python",
   "name": "python",
   "nbconvert_exporter": "python",
   "pygments_lexer": "ipython3",
   "version": "3.9.19"
  },
  "toc": {
   "base_numbering": 1,
   "nav_menu": {},
   "number_sections": false,
   "sideBar": true,
   "skip_h1_title": false,
   "title_cell": "Table of Contents",
   "title_sidebar": "Contents",
   "toc_cell": false,
   "toc_position": {},
   "toc_section_display": true,
   "toc_window_display": false
  },
  "varInspector": {
   "cols": {
    "lenName": 16,
    "lenType": 16,
    "lenVar": 40
   },
   "kernels_config": {
    "python": {
     "delete_cmd_postfix": "",
     "delete_cmd_prefix": "del ",
     "library": "var_list.py",
     "varRefreshCmd": "print(var_dic_list())"
    },
    "r": {
     "delete_cmd_postfix": ") ",
     "delete_cmd_prefix": "rm(",
     "library": "var_list.r",
     "varRefreshCmd": "cat(var_dic_list()) "
    }
   },
   "types_to_exclude": [
    "module",
    "function",
    "builtin_function_or_method",
    "instance",
    "_Feature"
   ],
   "window_display": false
  }
 },
 "nbformat": 4,
 "nbformat_minor": 4
}
